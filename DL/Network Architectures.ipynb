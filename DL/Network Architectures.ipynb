{
 "cells": [
  {
   "cell_type": "markdown",
   "metadata": {},
   "source": [
    "# Losses in PyTorch"
   ]
  },
  {
   "cell_type": "code",
   "execution_count": 1,
   "metadata": {},
   "outputs": [],
   "source": [
    "import torch\n",
    "from torch import nn\n",
    "import torch.nn.functional as F\n",
    "from torchvision import datasets, transforms"
   ]
  },
  {
   "cell_type": "code",
   "execution_count": 2,
   "metadata": {},
   "outputs": [
    {
     "name": "stderr",
     "output_type": "stream",
     "text": [
      "/home/akshita/.local/lib/python3.7/site-packages/torchvision/transforms/transforms.py:219: UserWarning: The use of the transforms.Scale transform is deprecated, please use transforms.Resize instead.\n",
      "  warnings.warn(\"The use of the transforms.Scale transform is deprecated, \" +\n"
     ]
    }
   ],
   "source": [
    "transform = transforms.Compose([transforms.Scale(28,28),\n",
    "                                transforms.ToTensor(), \n",
    "                               transforms.Normalize([0.5],[0.5]),\n",
    "                             ])\n",
    "                              \n",
    "trainset = datasets.MNIST('MNIST_data/', download = True, train = True,transform= transform) \n",
    "trainloader = torch.utils.data.DataLoader(trainset, batch_size=64,shuffle=True)                              "
   ]
  },
  {
   "cell_type": "code",
   "execution_count": 4,
   "metadata": {},
   "outputs": [
    {
     "name": "stdout",
     "output_type": "stream",
     "text": [
      "tensor(2.3020, grad_fn=<NllLossBackward>)\n"
     ]
    }
   ],
   "source": [
    "model = nn.Sequential(nn.Linear(784,128),\n",
    "                     nn.ReLU(),\n",
    "                     nn.Linear(128,64),\n",
    "                     nn.ReLU(),\n",
    "                     nn.Linear(64,10))\n",
    "#Define the loss\n",
    "criterion = nn.CrossEntropyLoss()\n",
    "\n",
    "#Get our data\n",
    "images, labels = next(iter(trainloader))\n",
    "\n",
    "#Flatten Images\n",
    "images = images.view(images.shape[0], -1)\n",
    "\n",
    "#Forward pass get our logits\n",
    "logits = model(images)\n",
    "#Calculate the loss with the logits and the labels\n",
    "loss = criterion(logits,labels)\n",
    "\n",
    "print(loss)"
   ]
  },
  {
   "cell_type": "code",
   "execution_count": 6,
   "metadata": {},
   "outputs": [
    {
     "name": "stdout",
     "output_type": "stream",
     "text": [
      "tensor(2.3087, grad_fn=<NllLossBackward>)\n"
     ]
    }
   ],
   "source": [
    "model =  nn.Sequential(nn.Linear(784,128),\n",
    "                     nn.ReLU(),\n",
    "                     nn.Linear(128,64),\n",
    "                     nn.ReLU(),\n",
    "                     nn.Linear(64,10),\n",
    "                     nn.LogSoftmax(dim=1))\n",
    "\n",
    "#Define the loss\n",
    "criterion = nn.NLLLoss()\n",
    "\n",
    "#Get our data\n",
    "images, labels = next(iter(trainloader))\n",
    "\n",
    "#Flatten Images\n",
    "images = images.view(images.shape[0], -1)\n",
    "\n",
    "#Forward pass get our logits\n",
    "logits = model(images)\n",
    "#Calculate the loss with the logits and the labels\n",
    "loss = criterion(logits,labels)\n",
    "\n",
    "print(loss)"
   ]
  },
  {
   "cell_type": "markdown",
   "metadata": {},
   "source": [
    "# Autograd"
   ]
  },
  {
   "cell_type": "code",
   "execution_count": 7,
   "metadata": {},
   "outputs": [
    {
     "name": "stdout",
     "output_type": "stream",
     "text": [
      "tensor([[-2.6108,  0.0866],\n",
      "        [-0.3569, -0.7455]], requires_grad=True)\n"
     ]
    }
   ],
   "source": [
    "x=torch.randn(2,2, requires_grad=True)\n",
    "print(x)"
   ]
  },
  {
   "cell_type": "code",
   "execution_count": 8,
   "metadata": {},
   "outputs": [
    {
     "name": "stdout",
     "output_type": "stream",
     "text": [
      "tensor([[6.8164, 0.0075],\n",
      "        [0.1274, 0.5558]], grad_fn=<PowBackward0>)\n"
     ]
    }
   ],
   "source": [
    "y=x**2\n",
    "print(y)"
   ]
  },
  {
   "cell_type": "code",
   "execution_count": 9,
   "metadata": {},
   "outputs": [
    {
     "name": "stdout",
     "output_type": "stream",
     "text": [
      "<PowBackward0 object at 0x7fc82bded048>\n"
     ]
    }
   ],
   "source": [
    " print(y.grad_fn)"
   ]
  },
  {
   "cell_type": "code",
   "execution_count": 10,
   "metadata": {},
   "outputs": [
    {
     "name": "stdout",
     "output_type": "stream",
     "text": [
      "tensor(1.8768, grad_fn=<MeanBackward0>)\n"
     ]
    }
   ],
   "source": [
    "z=y.mean()\n",
    "print(z)"
   ]
  },
  {
   "cell_type": "code",
   "execution_count": 11,
   "metadata": {},
   "outputs": [
    {
     "name": "stdout",
     "output_type": "stream",
     "text": [
      "None\n"
     ]
    }
   ],
   "source": [
    "print(x.grad)"
   ]
  },
  {
   "cell_type": "code",
   "execution_count": 14,
   "metadata": {},
   "outputs": [
    {
     "name": "stdout",
     "output_type": "stream",
     "text": [
      "tensor([[-1.3054,  0.0433],\n",
      "        [-0.1784, -0.3728]])\n",
      "tensor([[-1.3054,  0.0433],\n",
      "        [-0.1784, -0.3728]], grad_fn=<DivBackward0>)\n"
     ]
    }
   ],
   "source": [
    "z.backward()\n",
    "print(x.grad)\n",
    "print(x/2)"
   ]
  },
  {
   "cell_type": "markdown",
   "metadata": {},
   "source": [
    "# Loss and Autograd together"
   ]
  },
  {
   "cell_type": "code",
   "execution_count": 15,
   "metadata": {},
   "outputs": [],
   "source": [
    "model = nn.Sequential(nn.Linear(784,128),\n",
    "                     nn.ReLU(),\n",
    "                     nn.Linear(128,64),\n",
    "                     nn.ReLU(),\n",
    "                     nn.Linear(64,10),\n",
    "                     nn.LogSoftmax(dim=1))\n",
    "\n",
    "criterion = nn.NLLLoss()\n",
    "images, labels = next(iter(trainloader))\n",
    "images = images.view(images.shape[0], -1)\n",
    "\n",
    "logps = model(images)\n",
    "loss = criterion(logps, labels)"
   ]
  },
  {
   "cell_type": "code",
   "execution_count": 16,
   "metadata": {},
   "outputs": [
    {
     "name": "stdout",
     "output_type": "stream",
     "text": [
      "before backward pass: \n",
      " None\n",
      "after backward pass: \n",
      " tensor([[-1.5259e-03, -1.5259e-03, -1.5259e-03,  ..., -1.5259e-03,\n",
      "         -1.5259e-03, -1.5259e-03],\n",
      "        [-1.2131e-03, -1.2131e-03, -1.2131e-03,  ..., -1.2131e-03,\n",
      "         -1.2131e-03, -1.2131e-03],\n",
      "        [-6.3747e-04, -6.3747e-04, -6.3747e-04,  ..., -6.3747e-04,\n",
      "         -6.3747e-04, -6.3747e-04],\n",
      "        ...,\n",
      "        [ 2.4971e-03,  2.4971e-03,  2.4971e-03,  ...,  2.4971e-03,\n",
      "          2.4971e-03,  2.4971e-03],\n",
      "        [ 7.1835e-05,  7.1835e-05,  7.1835e-05,  ...,  7.1835e-05,\n",
      "          7.1835e-05,  7.1835e-05],\n",
      "        [-1.1955e-03, -1.1955e-03, -1.1955e-03,  ..., -1.1955e-03,\n",
      "         -1.1955e-03, -1.1955e-03]])\n"
     ]
    }
   ],
   "source": [
    "print('before backward pass: \\n',model[0].weight.grad)\n",
    "\n",
    "loss.backward()\n",
    "\n",
    "print('after backward pass: \\n', model[0].weight.grad)"
   ]
  },
  {
   "cell_type": "markdown",
   "metadata": {},
   "source": [
    "# Training the network!"
   ]
  },
  {
   "cell_type": "code",
   "execution_count": 22,
   "metadata": {},
   "outputs": [],
   "source": [
    "from torch import optim\n",
    "\n",
    "optimizer = optim.SGD(model.parameters(), lr=0.01)"
   ]
  },
  {
   "cell_type": "code",
   "execution_count": 23,
   "metadata": {},
   "outputs": [
    {
     "name": "stdout",
     "output_type": "stream",
     "text": [
      "Initial weights -  Parameter containing:\n",
      "tensor([[ 0.0071, -0.0102, -0.0332,  ..., -0.0307,  0.0094,  0.0093],\n",
      "        [-0.0280,  0.0121, -0.0272,  ..., -0.0090, -0.0073, -0.0117],\n",
      "        [ 0.0221,  0.0115,  0.0224,  ...,  0.0069, -0.0307, -0.0194],\n",
      "        ...,\n",
      "        [-0.0082,  0.0154, -0.0095,  ...,  0.0245,  0.0268,  0.0316],\n",
      "        [ 0.0014,  0.0014,  0.0211,  ...,  0.0216,  0.0219, -0.0143],\n",
      "        [ 0.0146, -0.0357,  0.0290,  ..., -0.0042,  0.0004, -0.0251]],\n",
      "       requires_grad=True)\n",
      "Gradient -  tensor([[ 0.0016,  0.0016,  0.0016,  ...,  0.0016,  0.0016,  0.0016],\n",
      "        [-0.0006, -0.0006, -0.0006,  ..., -0.0006, -0.0006, -0.0006],\n",
      "        [ 0.0015,  0.0015,  0.0015,  ...,  0.0015,  0.0015,  0.0015],\n",
      "        ...,\n",
      "        [-0.0004, -0.0004, -0.0004,  ..., -0.0004, -0.0004, -0.0004],\n",
      "        [ 0.0010,  0.0010,  0.0010,  ...,  0.0010,  0.0010,  0.0010],\n",
      "        [-0.0004, -0.0004, -0.0004,  ..., -0.0004, -0.0004, -0.0004]])\n"
     ]
    }
   ],
   "source": [
    "print('Initial weights - ',model[0].weight)\n",
    "\n",
    "images,labels= next(iter(trainloader))\n",
    "images.resize_(64,784)\n",
    "\n",
    "optimizer.zero_grad()\n",
    "\n",
    "output = model.forward(images)\n",
    "loss = criterion(output, labels)\n",
    "loss.backward()\n",
    "print('Gradient - ',model[0].weight.grad)"
   ]
  },
  {
   "cell_type": "code",
   "execution_count": 24,
   "metadata": {},
   "outputs": [
    {
     "name": "stdout",
     "output_type": "stream",
     "text": [
      "Updated weights =  Parameter containing:\n",
      "tensor([[ 0.0071, -0.0102, -0.0333,  ..., -0.0307,  0.0094,  0.0092],\n",
      "        [-0.0279,  0.0121, -0.0272,  ..., -0.0090, -0.0073, -0.0117],\n",
      "        [ 0.0221,  0.0114,  0.0223,  ...,  0.0069, -0.0307, -0.0194],\n",
      "        ...,\n",
      "        [-0.0082,  0.0154, -0.0095,  ...,  0.0245,  0.0268,  0.0317],\n",
      "        [ 0.0014,  0.0013,  0.0211,  ...,  0.0216,  0.0219, -0.0143],\n",
      "        [ 0.0146, -0.0357,  0.0290,  ..., -0.0042,  0.0004, -0.0251]],\n",
      "       requires_grad=True)\n"
     ]
    }
   ],
   "source": [
    "optimizer.step()\n",
    "print('Updated weights = ',model[0].weight)"
   ]
  }
 ],
 "metadata": {
  "kernelspec": {
   "display_name": "Python 3",
   "language": "python",
   "name": "python3"
  },
  "language_info": {
   "codemirror_mode": {
    "name": "ipython",
    "version": 3
   },
   "file_extension": ".py",
   "mimetype": "text/x-python",
   "name": "python",
   "nbconvert_exporter": "python",
   "pygments_lexer": "ipython3",
   "version": "3.7.3"
  }
 },
 "nbformat": 4,
 "nbformat_minor": 2
}
